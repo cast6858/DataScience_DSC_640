{
 "cells": [
  {
   "cell_type": "code",
   "execution_count": 5,
   "id": "736ea494",
   "metadata": {},
   "outputs": [],
   "source": [
    "import os \n",
    "import sys\n",
    "import numpy as np\n",
    "import pandas as pd\n",
    "import squarify\n",
    "import matplotlib.pyplot as plt\n",
    "\n",
    "import plotly.express as px\n",
    "\n",
    "from scipy.stats import gaussian_kde\n"
   ]
  },
  {
   "cell_type": "code",
   "execution_count": 7,
   "id": "137dd45d",
   "metadata": {},
   "outputs": [],
   "source": [
    "os.chdir(\"C:\\DataScience_DSC_640\\Weeks7-8\\ex4-2\")"
   ]
  },
  {
   "cell_type": "code",
   "execution_count": 3,
   "id": "9f7f8ab3",
   "metadata": {},
   "outputs": [],
   "source": [
    "#!{sys.executable} -m pip install plotly"
   ]
  },
  {
   "cell_type": "code",
   "execution_count": 8,
   "id": "0797e4e0",
   "metadata": {},
   "outputs": [],
   "source": [
    "birth_rate_yearly = pd.read_csv(\"Car_sales.csv\")"
   ]
  },
  {
   "cell_type": "code",
   "execution_count": 9,
   "id": "3efbb80e",
   "metadata": {},
   "outputs": [
    {
     "data": {
      "text/html": [
       "<div>\n",
       "<style scoped>\n",
       "    .dataframe tbody tr th:only-of-type {\n",
       "        vertical-align: middle;\n",
       "    }\n",
       "\n",
       "    .dataframe tbody tr th {\n",
       "        vertical-align: top;\n",
       "    }\n",
       "\n",
       "    .dataframe thead th {\n",
       "        text-align: right;\n",
       "    }\n",
       "</style>\n",
       "<table border=\"1\" class=\"dataframe\">\n",
       "  <thead>\n",
       "    <tr style=\"text-align: right;\">\n",
       "      <th></th>\n",
       "      <th>Manufacturer</th>\n",
       "      <th>Model</th>\n",
       "      <th>Sales_in_thousands</th>\n",
       "      <th>__year_resale_value</th>\n",
       "      <th>Vehicle_type</th>\n",
       "      <th>Price_in_thousands</th>\n",
       "      <th>Engine_size</th>\n",
       "      <th>Horsepower</th>\n",
       "      <th>Wheelbase</th>\n",
       "      <th>Width</th>\n",
       "      <th>Length</th>\n",
       "      <th>Curb_weight</th>\n",
       "      <th>Fuel_capacity</th>\n",
       "      <th>Fuel_efficiency</th>\n",
       "      <th>Latest_Launch</th>\n",
       "      <th>Power_perf_factor</th>\n",
       "    </tr>\n",
       "  </thead>\n",
       "  <tbody>\n",
       "    <tr>\n",
       "      <th>0</th>\n",
       "      <td>Acura</td>\n",
       "      <td>Integra</td>\n",
       "      <td>16.919</td>\n",
       "      <td>16.360</td>\n",
       "      <td>Passenger</td>\n",
       "      <td>21.50</td>\n",
       "      <td>1.8</td>\n",
       "      <td>140.0</td>\n",
       "      <td>101.2</td>\n",
       "      <td>67.3</td>\n",
       "      <td>172.4</td>\n",
       "      <td>2.639</td>\n",
       "      <td>13.2</td>\n",
       "      <td>28.0</td>\n",
       "      <td>2/2/2012</td>\n",
       "      <td>58.280150</td>\n",
       "    </tr>\n",
       "    <tr>\n",
       "      <th>1</th>\n",
       "      <td>Acura</td>\n",
       "      <td>TL</td>\n",
       "      <td>39.384</td>\n",
       "      <td>19.875</td>\n",
       "      <td>Passenger</td>\n",
       "      <td>28.40</td>\n",
       "      <td>3.2</td>\n",
       "      <td>225.0</td>\n",
       "      <td>108.1</td>\n",
       "      <td>70.3</td>\n",
       "      <td>192.9</td>\n",
       "      <td>3.517</td>\n",
       "      <td>17.2</td>\n",
       "      <td>25.0</td>\n",
       "      <td>6/3/2011</td>\n",
       "      <td>91.370778</td>\n",
       "    </tr>\n",
       "    <tr>\n",
       "      <th>2</th>\n",
       "      <td>Acura</td>\n",
       "      <td>CL</td>\n",
       "      <td>14.114</td>\n",
       "      <td>18.225</td>\n",
       "      <td>Passenger</td>\n",
       "      <td>NaN</td>\n",
       "      <td>3.2</td>\n",
       "      <td>225.0</td>\n",
       "      <td>106.9</td>\n",
       "      <td>70.6</td>\n",
       "      <td>192.0</td>\n",
       "      <td>3.470</td>\n",
       "      <td>17.2</td>\n",
       "      <td>26.0</td>\n",
       "      <td>1/4/2012</td>\n",
       "      <td>NaN</td>\n",
       "    </tr>\n",
       "    <tr>\n",
       "      <th>3</th>\n",
       "      <td>Acura</td>\n",
       "      <td>RL</td>\n",
       "      <td>8.588</td>\n",
       "      <td>29.725</td>\n",
       "      <td>Passenger</td>\n",
       "      <td>42.00</td>\n",
       "      <td>3.5</td>\n",
       "      <td>210.0</td>\n",
       "      <td>114.6</td>\n",
       "      <td>71.4</td>\n",
       "      <td>196.6</td>\n",
       "      <td>3.850</td>\n",
       "      <td>18.0</td>\n",
       "      <td>22.0</td>\n",
       "      <td>3/10/2011</td>\n",
       "      <td>91.389779</td>\n",
       "    </tr>\n",
       "    <tr>\n",
       "      <th>4</th>\n",
       "      <td>Audi</td>\n",
       "      <td>A4</td>\n",
       "      <td>20.397</td>\n",
       "      <td>22.255</td>\n",
       "      <td>Passenger</td>\n",
       "      <td>23.99</td>\n",
       "      <td>1.8</td>\n",
       "      <td>150.0</td>\n",
       "      <td>102.6</td>\n",
       "      <td>68.2</td>\n",
       "      <td>178.0</td>\n",
       "      <td>2.998</td>\n",
       "      <td>16.4</td>\n",
       "      <td>27.0</td>\n",
       "      <td>10/8/2011</td>\n",
       "      <td>62.777639</td>\n",
       "    </tr>\n",
       "    <tr>\n",
       "      <th>...</th>\n",
       "      <td>...</td>\n",
       "      <td>...</td>\n",
       "      <td>...</td>\n",
       "      <td>...</td>\n",
       "      <td>...</td>\n",
       "      <td>...</td>\n",
       "      <td>...</td>\n",
       "      <td>...</td>\n",
       "      <td>...</td>\n",
       "      <td>...</td>\n",
       "      <td>...</td>\n",
       "      <td>...</td>\n",
       "      <td>...</td>\n",
       "      <td>...</td>\n",
       "      <td>...</td>\n",
       "      <td>...</td>\n",
       "    </tr>\n",
       "    <tr>\n",
       "      <th>152</th>\n",
       "      <td>Volvo</td>\n",
       "      <td>V40</td>\n",
       "      <td>3.545</td>\n",
       "      <td>NaN</td>\n",
       "      <td>Passenger</td>\n",
       "      <td>24.40</td>\n",
       "      <td>1.9</td>\n",
       "      <td>160.0</td>\n",
       "      <td>100.5</td>\n",
       "      <td>67.6</td>\n",
       "      <td>176.6</td>\n",
       "      <td>3.042</td>\n",
       "      <td>15.8</td>\n",
       "      <td>25.0</td>\n",
       "      <td>9/21/2011</td>\n",
       "      <td>66.498812</td>\n",
       "    </tr>\n",
       "    <tr>\n",
       "      <th>153</th>\n",
       "      <td>Volvo</td>\n",
       "      <td>S70</td>\n",
       "      <td>15.245</td>\n",
       "      <td>NaN</td>\n",
       "      <td>Passenger</td>\n",
       "      <td>27.50</td>\n",
       "      <td>2.4</td>\n",
       "      <td>168.0</td>\n",
       "      <td>104.9</td>\n",
       "      <td>69.3</td>\n",
       "      <td>185.9</td>\n",
       "      <td>3.208</td>\n",
       "      <td>17.9</td>\n",
       "      <td>25.0</td>\n",
       "      <td>11/24/2012</td>\n",
       "      <td>70.654495</td>\n",
       "    </tr>\n",
       "    <tr>\n",
       "      <th>154</th>\n",
       "      <td>Volvo</td>\n",
       "      <td>V70</td>\n",
       "      <td>17.531</td>\n",
       "      <td>NaN</td>\n",
       "      <td>Passenger</td>\n",
       "      <td>28.80</td>\n",
       "      <td>2.4</td>\n",
       "      <td>168.0</td>\n",
       "      <td>104.9</td>\n",
       "      <td>69.3</td>\n",
       "      <td>186.2</td>\n",
       "      <td>3.259</td>\n",
       "      <td>17.9</td>\n",
       "      <td>25.0</td>\n",
       "      <td>6/25/2011</td>\n",
       "      <td>71.155978</td>\n",
       "    </tr>\n",
       "    <tr>\n",
       "      <th>155</th>\n",
       "      <td>Volvo</td>\n",
       "      <td>C70</td>\n",
       "      <td>3.493</td>\n",
       "      <td>NaN</td>\n",
       "      <td>Passenger</td>\n",
       "      <td>45.50</td>\n",
       "      <td>2.3</td>\n",
       "      <td>236.0</td>\n",
       "      <td>104.9</td>\n",
       "      <td>71.5</td>\n",
       "      <td>185.7</td>\n",
       "      <td>3.601</td>\n",
       "      <td>18.5</td>\n",
       "      <td>23.0</td>\n",
       "      <td>4/26/2011</td>\n",
       "      <td>101.623357</td>\n",
       "    </tr>\n",
       "    <tr>\n",
       "      <th>156</th>\n",
       "      <td>Volvo</td>\n",
       "      <td>S80</td>\n",
       "      <td>18.969</td>\n",
       "      <td>NaN</td>\n",
       "      <td>Passenger</td>\n",
       "      <td>36.00</td>\n",
       "      <td>2.9</td>\n",
       "      <td>201.0</td>\n",
       "      <td>109.9</td>\n",
       "      <td>72.1</td>\n",
       "      <td>189.8</td>\n",
       "      <td>3.600</td>\n",
       "      <td>21.1</td>\n",
       "      <td>24.0</td>\n",
       "      <td>11/14/2011</td>\n",
       "      <td>85.735655</td>\n",
       "    </tr>\n",
       "  </tbody>\n",
       "</table>\n",
       "<p>157 rows × 16 columns</p>\n",
       "</div>"
      ],
      "text/plain": [
       "    Manufacturer    Model  Sales_in_thousands  __year_resale_value  \\\n",
       "0          Acura  Integra              16.919               16.360   \n",
       "1          Acura       TL              39.384               19.875   \n",
       "2          Acura       CL              14.114               18.225   \n",
       "3          Acura       RL               8.588               29.725   \n",
       "4           Audi       A4              20.397               22.255   \n",
       "..           ...      ...                 ...                  ...   \n",
       "152        Volvo      V40               3.545                  NaN   \n",
       "153        Volvo      S70              15.245                  NaN   \n",
       "154        Volvo      V70              17.531                  NaN   \n",
       "155        Volvo      C70               3.493                  NaN   \n",
       "156        Volvo      S80              18.969                  NaN   \n",
       "\n",
       "    Vehicle_type  Price_in_thousands  Engine_size  Horsepower  Wheelbase  \\\n",
       "0      Passenger               21.50          1.8       140.0      101.2   \n",
       "1      Passenger               28.40          3.2       225.0      108.1   \n",
       "2      Passenger                 NaN          3.2       225.0      106.9   \n",
       "3      Passenger               42.00          3.5       210.0      114.6   \n",
       "4      Passenger               23.99          1.8       150.0      102.6   \n",
       "..           ...                 ...          ...         ...        ...   \n",
       "152    Passenger               24.40          1.9       160.0      100.5   \n",
       "153    Passenger               27.50          2.4       168.0      104.9   \n",
       "154    Passenger               28.80          2.4       168.0      104.9   \n",
       "155    Passenger               45.50          2.3       236.0      104.9   \n",
       "156    Passenger               36.00          2.9       201.0      109.9   \n",
       "\n",
       "     Width  Length  Curb_weight  Fuel_capacity  Fuel_efficiency Latest_Launch  \\\n",
       "0     67.3   172.4        2.639           13.2             28.0      2/2/2012   \n",
       "1     70.3   192.9        3.517           17.2             25.0      6/3/2011   \n",
       "2     70.6   192.0        3.470           17.2             26.0      1/4/2012   \n",
       "3     71.4   196.6        3.850           18.0             22.0     3/10/2011   \n",
       "4     68.2   178.0        2.998           16.4             27.0     10/8/2011   \n",
       "..     ...     ...          ...            ...              ...           ...   \n",
       "152   67.6   176.6        3.042           15.8             25.0     9/21/2011   \n",
       "153   69.3   185.9        3.208           17.9             25.0    11/24/2012   \n",
       "154   69.3   186.2        3.259           17.9             25.0     6/25/2011   \n",
       "155   71.5   185.7        3.601           18.5             23.0     4/26/2011   \n",
       "156   72.1   189.8        3.600           21.1             24.0    11/14/2011   \n",
       "\n",
       "     Power_perf_factor  \n",
       "0            58.280150  \n",
       "1            91.370778  \n",
       "2                  NaN  \n",
       "3            91.389779  \n",
       "4            62.777639  \n",
       "..                 ...  \n",
       "152          66.498812  \n",
       "153          70.654495  \n",
       "154          71.155978  \n",
       "155         101.623357  \n",
       "156          85.735655  \n",
       "\n",
       "[157 rows x 16 columns]"
      ]
     },
     "execution_count": 9,
     "metadata": {},
     "output_type": "execute_result"
    }
   ],
   "source": [
    "birth_rate_yearly"
   ]
  },
  {
   "cell_type": "code",
   "execution_count": 10,
   "id": "5291ea8b",
   "metadata": {},
   "outputs": [
    {
     "data": {
      "text/plain": [
       "<AxesSubplot:title={'center':'Price of Cars Sold By Engine Size'}, xlabel='Engine Size', ylabel='Price In Thousands'>"
      ]
     },
     "execution_count": 10,
     "metadata": {},
     "output_type": "execute_result"
    },
    {
     "data": {
      "image/png": "[encoded data removed]",
      "text/plain": [
       "<Figure size 1296x720 with 1 Axes>"
      ]
     },
     "metadata": {
      "needs_background": "light"
     },
     "output_type": "display_data"
    }
   ],
   "source": [
    "\n",
    "\n",
    "\n",
    "birth_rate_yearly.plot.scatter(x = 'Engine_size', y = \"Price_in_thousands\", ylabel = \"Price In Thousands\" , xlabel = \"Engine Size\", title = \"Price of Cars Sold By Engine Size\",figsize = (18,10) )"
   ]
  },
  {
   "cell_type": "code",
   "execution_count": 11,
   "id": "1e75efe2",
   "metadata": {},
   "outputs": [],
   "source": [
    "birth_rate_na = birth_rate_yearly.dropna()"
   ]
  },
  {
   "cell_type": "code",
   "execution_count": 16,
   "id": "515c75be",
   "metadata": {
    "scrolled": false
   },
   "outputs": [
    {
     "data": {
      "application/vnd.plotly.v1+json": {
       "config": {
        "plotlyServerURL": "https://plot.ly"
       },
       "data": [
        {
         "hovertemplate": "<b>%{hovertext}</b><br><br>Manufacturer=Acura<br>Fuel_efficiency=%{x}<br>Price_in_thousands=%{marker.size}<extra></extra>",
         "hovertext": [
          "Acura",
          "Acura",
          "Acura"
         ],
         "legendgroup": "Acura",
         "marker": {
          "color": "#636efa",
          "size": [
           21.5,
           28.4,
           42
          ],
          "sizemode": "area",
          "sizeref": 0.03304,
          "symbol": "circle"
         },
         "mode": "markers",
         "name": "Acura",
         "orientation": "v",
         "showlegend": true,
         "type": "scatter",
         "x": [
          28,
          25,
          22
         ],
         "xaxis": "x",
         "y": [
          21.5,
          28.4,
          42
         ],
         "yaxis": "y"
        },
        {
         "hovertemplate": "<b>%{hovertext}</b><br><br>Manufacturer=Audi<br>Fuel_efficiency=%{x}<br>Price_in_thousands=%{marker.size}<extra></extra>",
         "hovertext": [
          "Audi",
          "Audi",
          "Audi"
         ],
         "legendgroup": "Audi",
         "marker": {
          "color": "#EF553B",
          "size": [
           23.99,
           33.95,
           62
          ],
          "sizemode": "area",
          "sizeref": 0.03304,
          "symbol": "circle"
         },
         "mode": "markers",
         "name": "Audi",
         "orientation": "v",
         "showlegend": true,
         "type": "scatter",
         "x": [
          27,
          22,
          21
         ],
         "xaxis": "x",
         "y": [
          23.99,
          33.95,
          62
         ],
         "yaxis": "y"
        },
        {
         "hovertemplate": "<b>%{hovertext}</b><br><br>Manufacturer=BMW<br>Fuel_efficiency=%{x}<br>Price_in_thousands=%{marker.size}<extra></extra>",
         "hovertext": [
          "BMW",
          "BMW"
         ],
         "legendgroup": "BMW",
         "marker": {
          "color": "#00cc96",
          "size": [
           33.4,
           38.9
          ],
          "sizemode": "area",
          "sizeref": 0.03304,
          "symbol": "circle"
         },
         "mode": "markers",
         "name": "BMW",
         "orientation": "v",
         "showlegend": true,
         "type": "scatter",
         "x": [
          24,
          25
         ],
         "xaxis": "x",
         "y": [
          33.4,
          38.9
         ],
         "yaxis": "y"
        },
        {
         "hovertemplate": "<b>%{hovertext}</b><br><br>Manufacturer=Buick<br>Fuel_efficiency=%{x}<br>Price_in_thousands=%{marker.size}<extra></extra>",
         "hovertext": [
          "Buick",
          "Buick",
          "Buick",
          "Buick"
         ],
         "legendgroup": "Buick",
         "marker": {
          "color": "#ab63fa",
          "size": [
           21.975,
           25.3,
           31.965,
           27.885
          ],
          "sizemode": "area",
          "sizeref": 0.03304,
          "symbol": "circle"
         },
         "mode": "markers",
         "name": "Buick",
         "orientation": "v",
         "showlegend": true,
         "type": "scatter",
         "x": [
          25,
          23,
          24,
          25
         ],
         "xaxis": "x",
         "y": [
          21.975,
          25.3,
          31.965,
          27.885
         ],
         "yaxis": "y"
        },
        {
         "hovertemplate": "<b>%{hovertext}</b><br><br>Manufacturer=Cadillac<br>Fuel_efficiency=%{x}<br>Price_in_thousands=%{marker.size}<extra></extra>",
         "hovertext": [
          "Cadillac",
          "Cadillac",
          "Cadillac"
         ],
         "legendgroup": "Cadillac",
         "marker": {
          "color": "#FFA15A",
          "size": [
           39.895,
           39.665,
           31.01
          ],
          "sizemode": "area",
          "sizeref": 0.03304,
          "symbol": "circle"
         },
         "mode": "markers",
         "name": "Cadillac",
         "orientation": "v",
         "showlegend": true,
         "type": "scatter",
         "x": [
          22,
          22,
          22
         ],
         "xaxis": "x",
         "y": [
          39.895,
          39.665,
          31.01
         ],
         "yaxis": "y"
        },
        {
         "hovertemplate": "<b>%{hovertext}</b><br><br>Manufacturer=Chevrolet<br>Fuel_efficiency=%{x}<br>Price_in_thousands=%{marker.size}<extra></extra>",
         "hovertext": [
          "Chevrolet",
          "Chevrolet",
          "Chevrolet",
          "Chevrolet",
          "Chevrolet",
          "Chevrolet",
          "Chevrolet",
          "Chevrolet"
         ],
         "legendgroup": "Chevrolet",
         "marker": {
          "color": "#19d3f3",
          "size": [
           13.26,
           16.535,
           18.89,
           19.39,
           24.34,
           45.705,
           13.96,
           9.235
          ],
          "sizemode": "area",
          "sizeref": 0.03304,
          "symbol": "circle"
         },
         "mode": "markers",
         "name": "Chevrolet",
         "orientation": "v",
         "showlegend": true,
         "type": "scatter",
         "x": [
          27,
          25,
          25,
          27,
          25,
          22,
          33,
          45
         ],
         "xaxis": "x",
         "y": [
          13.26,
          16.535,
          18.89,
          19.39,
          24.34,
          45.705,
          13.96,
          9.235
         ],
         "yaxis": "y"
        },
        {
         "hovertemplate": "<b>%{hovertext}</b><br><br>Manufacturer=Chrysler<br>Fuel_efficiency=%{x}<br>Price_in_thousands=%{marker.size}<extra></extra>",
         "hovertext": [
          "Chrysler",
          "Chrysler",
          "Chrysler",
          "Chrysler",
          "Chrysler"
         ],
         "legendgroup": "Chrysler",
         "marker": {
          "color": "#FF6692",
          "size": [
           19.84,
           24.495,
           22.245,
           16.48,
           28.34
          ],
          "sizemode": "area",
          "sizeref": 0.03304,
          "symbol": "circle"
         },
         "mode": "markers",
         "name": "Chrysler",
         "orientation": "v",
         "showlegend": true,
         "type": "scatter",
         "x": [
          24,
          24,
          26,
          27,
          23
         ],
         "xaxis": "x",
         "y": [
          19.84,
          24.495,
          22.245,
          16.48,
          28.34
         ],
         "yaxis": "y"
        },
        {
         "hovertemplate": "<b>%{hovertext}</b><br><br>Manufacturer=Dodge<br>Fuel_efficiency=%{x}<br>Price_in_thousands=%{marker.size}<extra></extra>",
         "hovertext": [
          "Dodge",
          "Dodge",
          "Dodge",
          "Dodge",
          "Dodge",
          "Dodge",
          "Dodge",
          "Dodge",
          "Dodge"
         ],
         "legendgroup": "Dodge",
         "marker": {
          "color": "#B6E880",
          "size": [
           12.64,
           19.045,
           20.23,
           69.725,
           19.46,
           21.315,
           18.575,
           16.98,
           19.565
          ],
          "sizemode": "area",
          "sizeref": 0.03304,
          "symbol": "circle"
         },
         "mode": "markers",
         "name": "Dodge",
         "orientation": "v",
         "showlegend": true,
         "type": "scatter",
         "x": [
          29,
          24,
          24,
          16,
          17,
          15,
          16,
          19,
          24
         ],
         "xaxis": "x",
         "y": [
          12.64,
          19.045,
          20.23,
          69.725,
          19.46,
          21.315,
          18.575,
          16.98,
          19.565
         ],
         "yaxis": "y"
        },
        {
         "hovertemplate": "<b>%{hovertext}</b><br><br>Manufacturer=Ford<br>Fuel_efficiency=%{x}<br>Price_in_thousands=%{marker.size}<extra></extra>",
         "hovertext": [
          "Ford",
          "Ford",
          "Ford",
          "Ford",
          "Ford",
          "Ford",
          "Ford",
          "Ford",
          "Ford",
          "Ford"
         ],
         "legendgroup": "Ford",
         "marker": {
          "color": "#FF97FF",
          "size": [
           12.07,
           21.56,
           17.035,
           17.885,
           22.195,
           31.93,
           21.41,
           36.135,
           12.05,
           26.935
          ],
          "sizemode": "area",
          "sizeref": 0.03304,
          "symbol": "circle"
         },
         "mode": "markers",
         "name": "Ford",
         "orientation": "v",
         "showlegend": true,
         "type": "scatter",
         "x": [
          30,
          24,
          25,
          24,
          21,
          19,
          21,
          16,
          23,
          18
         ],
         "xaxis": "x",
         "y": [
          12.07,
          21.56,
          17.035,
          17.885,
          22.195,
          31.93,
          21.41,
          36.135,
          12.05,
          26.935
         ],
         "yaxis": "y"
        },
        {
         "hovertemplate": "<b>%{hovertext}</b><br><br>Manufacturer=Honda<br>Fuel_efficiency=%{x}<br>Price_in_thousands=%{marker.size}<extra></extra>",
         "hovertext": [
          "Honda",
          "Honda",
          "Honda",
          "Honda",
          "Honda"
         ],
         "legendgroup": "Honda",
         "marker": {
          "color": "#FECB52",
          "size": [
           12.885,
           15.35,
           20.55,
           26.6,
           26
          ],
          "sizemode": "area",
          "sizeref": 0.03304,
          "symbol": "circle"
         },
         "mode": "markers",
         "name": "Honda",
         "orientation": "v",
         "showlegend": true,
         "type": "scatter",
         "x": [
          32,
          27,
          24,
          19,
          23
         ],
         "xaxis": "x",
         "y": [
          12.885,
          15.35,
          20.55,
          26.6,
          26
         ],
         "yaxis": "y"
        },
        {
         "hovertemplate": "<b>%{hovertext}</b><br><br>Manufacturer=Hyundai<br>Fuel_efficiency=%{x}<br>Price_in_thousands=%{marker.size}<extra></extra>",
         "hovertext": [
          "Hyundai",
          "Hyundai",
          "Hyundai"
         ],
         "legendgroup": "Hyundai",
         "marker": {
          "color": "#636efa",
          "size": [
           9.699,
           11.799,
           14.999
          ],
          "sizemode": "area",
          "sizeref": 0.03304,
          "symbol": "circle"
         },
         "mode": "markers",
         "name": "Hyundai",
         "orientation": "v",
         "showlegend": true,
         "type": "scatter",
         "x": [
          31,
          27,
          25
         ],
         "xaxis": "x",
         "y": [
          9.699,
          11.799,
          14.999
         ],
         "yaxis": "y"
        },
        {
         "hovertemplate": "<b>%{hovertext}</b><br><br>Manufacturer=Infiniti<br>Fuel_efficiency=%{x}<br>Price_in_thousands=%{marker.size}<extra></extra>",
         "hovertext": [
          "Infiniti"
         ],
         "legendgroup": "Infiniti",
         "marker": {
          "color": "#EF553B",
          "size": [
           29.465
          ],
          "sizemode": "area",
          "sizeref": 0.03304,
          "symbol": "circle"
         },
         "mode": "markers",
         "name": "Infiniti",
         "orientation": "v",
         "showlegend": true,
         "type": "scatter",
         "x": [
          25
         ],
         "xaxis": "x",
         "y": [
          29.465
         ],
         "yaxis": "y"
        },
        {
         "hovertemplate": "<b>%{hovertext}</b><br><br>Manufacturer=Jeep<br>Fuel_efficiency=%{x}<br>Price_in_thousands=%{marker.size}<extra></extra>",
         "hovertext": [
          "Jeep",
          "Jeep",
          "Jeep"
         ],
         "legendgroup": "Jeep",
         "marker": {
          "color": "#00cc96",
          "size": [
           14.46,
           21.62,
           26.895
          ],
          "sizemode": "area",
          "sizeref": 0.03304,
          "symbol": "circle"
         },
         "mode": "markers",
         "name": "Jeep",
         "orientation": "v",
         "showlegend": true,
         "type": "scatter",
         "x": [
          17,
          20,
          19
         ],
         "xaxis": "x",
         "y": [
          14.46,
          21.62,
          26.895
         ],
         "yaxis": "y"
        },
        {
         "hovertemplate": "<b>%{hovertext}</b><br><br>Manufacturer=Lexus<br>Fuel_efficiency=%{x}<br>Price_in_thousands=%{marker.size}<extra></extra>",
         "hovertext": [
          "Lexus",
          "Lexus",
          "Lexus"
         ],
         "legendgroup": "Lexus",
         "marker": {
          "color": "#ab63fa",
          "size": [
           31.505,
           37.805,
           54.005
          ],
          "sizemode": "area",
          "sizeref": 0.03304,
          "symbol": "circle"
         },
         "mode": "markers",
         "name": "Lexus",
         "orientation": "v",
         "showlegend": true,
         "type": "scatter",
         "x": [
          23,
          23,
          22
         ],
         "xaxis": "x",
         "y": [
          31.505,
          37.805,
          54.005
         ],
         "yaxis": "y"
        },
        {
         "hovertemplate": "<b>%{hovertext}</b><br><br>Manufacturer=Lincoln<br>Fuel_efficiency=%{x}<br>Price_in_thousands=%{marker.size}<extra></extra>",
         "hovertext": [
          "Lincoln",
          "Lincoln"
         ],
         "legendgroup": "Lincoln",
         "marker": {
          "color": "#FFA15A",
          "size": [
           39.08,
           43.33
          ],
          "sizemode": "area",
          "sizeref": 0.03304,
          "symbol": "circle"
         },
         "mode": "markers",
         "name": "Lincoln",
         "orientation": "v",
         "showlegend": true,
         "type": "scatter",
         "x": [
          22,
          21
         ],
         "xaxis": "x",
         "y": [
          39.08,
          43.33
         ],
         "yaxis": "y"
        },
        {
         "hovertemplate": "<b>%{hovertext}</b><br><br>Manufacturer=Mitsubishi<br>Fuel_efficiency=%{x}<br>Price_in_thousands=%{marker.size}<extra></extra>",
         "hovertext": [
          "Mitsubishi",
          "Mitsubishi",
          "Mitsubishi",
          "Mitsubishi",
          "Mitsubishi",
          "Mitsubishi",
          "Mitsubishi"
         ],
         "legendgroup": "Mitsubishi",
         "marker": {
          "color": "#19d3f3",
          "size": [
           13.987,
           19.047,
           17.357,
           24.997,
           25.45,
           31.807,
           22.527
          ],
          "sizemode": "area",
          "sizeref": 0.03304,
          "symbol": "circle"
         },
         "mode": "markers",
         "name": "Mitsubishi",
         "orientation": "v",
         "showlegend": true,
         "type": "scatter",
         "x": [
          30,
          24,
          25,
          22,
          21,
          18,
          20
         ],
         "xaxis": "x",
         "y": [
          13.987,
          19.047,
          17.357,
          24.997,
          25.45,
          31.807,
          22.527
         ],
         "yaxis": "y"
        },
        {
         "hovertemplate": "<b>%{hovertext}</b><br><br>Manufacturer=Mercury<br>Fuel_efficiency=%{x}<br>Price_in_thousands=%{marker.size}<extra></extra>",
         "hovertext": [
          "Mercury",
          "Mercury",
          "Mercury",
          "Mercury",
          "Mercury",
          "Mercury"
         ],
         "legendgroup": "Mercury",
         "marker": {
          "color": "#FF6692",
          "size": [
           16.24,
           16.54,
           19.035,
           22.605,
           27.56,
           22.51
          ],
          "sizemode": "area",
          "sizeref": 0.03304,
          "symbol": "circle"
         },
         "mode": "markers",
         "name": "Mercury",
         "orientation": "v",
         "showlegend": true,
         "type": "scatter",
         "x": [
          28,
          30,
          24,
          21,
          18,
          21
         ],
         "xaxis": "x",
         "y": [
          16.24,
          16.54,
          19.035,
          22.605,
          27.56,
          22.51
         ],
         "yaxis": "y"
        },
        {
         "hovertemplate": "<b>%{hovertext}</b><br><br>Manufacturer=Mercedes-B<br>Fuel_efficiency=%{x}<br>Price_in_thousands=%{marker.size}<extra></extra>",
         "hovertext": [
          "Mercedes-B",
          "Mercedes-B",
          "Mercedes-B",
          "Mercedes-B"
         ],
         "legendgroup": "Mercedes-B",
         "marker": {
          "color": "#B6E880",
          "size": [
           31.75,
           49.9,
           69.7,
           82.6
          ],
          "sizemode": "area",
          "sizeref": 0.03304,
          "symbol": "circle"
         },
         "mode": "markers",
         "name": "Mercedes-B",
         "orientation": "v",
         "showlegend": true,
         "type": "scatter",
         "x": [
          26,
          25,
          21,
          20
         ],
         "xaxis": "x",
         "y": [
          31.75,
          49.9,
          69.7,
          82.6
         ],
         "yaxis": "y"
        },
        {
         "hovertemplate": "<b>%{hovertext}</b><br><br>Manufacturer=Nissan<br>Fuel_efficiency=%{x}<br>Price_in_thousands=%{marker.size}<extra></extra>",
         "hovertext": [
          "Nissan",
          "Nissan",
          "Nissan",
          "Nissan",
          "Nissan"
         ],
         "legendgroup": "Nissan",
         "marker": {
          "color": "#FF97FF",
          "size": [
           13.499,
           20.39,
           26.249,
           26.399,
           29.299
          ],
          "sizemode": "area",
          "sizeref": 0.03304,
          "symbol": "circle"
         },
         "mode": "markers",
         "name": "Nissan",
         "orientation": "v",
         "showlegend": true,
         "type": "scatter",
         "x": [
          30,
          25,
          25,
          21,
          19
         ],
         "xaxis": "x",
         "y": [
          13.499,
          20.39,
          26.249,
          26.399,
          29.299
         ],
         "yaxis": "y"
        },
        {
         "hovertemplate": "<b>%{hovertext}</b><br><br>Manufacturer=Oldsmobile<br>Fuel_efficiency=%{x}<br>Price_in_thousands=%{marker.size}<extra></extra>",
         "hovertext": [
          "Oldsmobile",
          "Oldsmobile",
          "Oldsmobile",
          "Oldsmobile"
         ],
         "legendgroup": "Oldsmobile",
         "marker": {
          "color": "#FECB52",
          "size": [
           18.145,
           36.229,
           31.598,
           25.345
          ],
          "sizemode": "area",
          "sizeref": 0.03304,
          "symbol": "circle"
         },
         "mode": "markers",
         "name": "Oldsmobile",
         "orientation": "v",
         "showlegend": true,
         "type": "scatter",
         "x": [
          25,
          22,
          19,
          22
         ],
         "xaxis": "x",
         "y": [
          18.145,
          36.229,
          31.598,
          25.345
         ],
         "yaxis": "y"
        },
        {
         "hovertemplate": "<b>%{hovertext}</b><br><br>Manufacturer=Plymouth<br>Fuel_efficiency=%{x}<br>Price_in_thousands=%{marker.size}<extra></extra>",
         "hovertext": [
          "Plymouth",
          "Plymouth",
          "Plymouth"
         ],
         "legendgroup": "Plymouth",
         "marker": {
          "color": "#636efa",
          "size": [
           12.64,
           16.08,
           18.85
          ],
          "sizemode": "area",
          "sizeref": 0.03304,
          "symbol": "circle"
         },
         "mode": "markers",
         "name": "Plymouth",
         "orientation": "v",
         "showlegend": true,
         "type": "scatter",
         "x": [
          29,
          27,
          24
         ],
         "xaxis": "x",
         "y": [
          12.64,
          16.08,
          18.85
         ],
         "yaxis": "y"
        },
        {
         "hovertemplate": "<b>%{hovertext}</b><br><br>Manufacturer=Pontiac<br>Fuel_efficiency=%{x}<br>Price_in_thousands=%{marker.size}<extra></extra>",
         "hovertext": [
          "Pontiac",
          "Pontiac",
          "Pontiac",
          "Pontiac",
          "Pontiac"
         ],
         "legendgroup": "Pontiac",
         "marker": {
          "color": "#EF553B",
          "size": [
           21.61,
           19.72,
           25.31,
           21.665,
           23.755
          ],
          "sizemode": "area",
          "sizeref": 0.03304,
          "symbol": "circle"
         },
         "mode": "markers",
         "name": "Pontiac",
         "orientation": "v",
         "showlegend": true,
         "type": "scatter",
         "x": [
          27,
          25,
          25,
          25,
          24
         ],
         "xaxis": "x",
         "y": [
          21.61,
          19.72,
          25.31,
          21.665,
          23.755
         ],
         "yaxis": "y"
        },
        {
         "hovertemplate": "<b>%{hovertext}</b><br><br>Manufacturer=Porsche<br>Fuel_efficiency=%{x}<br>Price_in_thousands=%{marker.size}<extra></extra>",
         "hovertext": [
          "Porsche",
          "Porsche",
          "Porsche"
         ],
         "legendgroup": "Porsche",
         "marker": {
          "color": "#00cc96",
          "size": [
           41.43,
           71.02,
           74.97
          ],
          "sizemode": "area",
          "sizeref": 0.03304,
          "symbol": "circle"
         },
         "mode": "markers",
         "name": "Porsche",
         "orientation": "v",
         "showlegend": true,
         "type": "scatter",
         "x": [
          22,
          21,
          23
         ],
         "xaxis": "x",
         "y": [
          41.43,
          71.02,
          74.97
         ],
         "yaxis": "y"
        },
        {
         "hovertemplate": "<b>%{hovertext}</b><br><br>Manufacturer=Saturn<br>Fuel_efficiency=%{x}<br>Price_in_thousands=%{marker.size}<extra></extra>",
         "hovertext": [
          "Saturn",
          "Saturn",
          "Saturn"
         ],
         "legendgroup": "Saturn",
         "marker": {
          "color": "#ab63fa",
          "size": [
           10.685,
           12.535,
           14.29
          ],
          "sizemode": "area",
          "sizeref": 0.03304,
          "symbol": "circle"
         },
         "mode": "markers",
         "name": "Saturn",
         "orientation": "v",
         "showlegend": true,
         "type": "scatter",
         "x": [
          33,
          33,
          31
         ],
         "xaxis": "x",
         "y": [
          10.685,
          12.535,
          14.29
         ],
         "yaxis": "y"
        },
        {
         "hovertemplate": "<b>%{hovertext}</b><br><br>Manufacturer=Toyota<br>Fuel_efficiency=%{x}<br>Price_in_thousands=%{marker.size}<extra></extra>",
         "hovertext": [
          "Toyota",
          "Toyota",
          "Toyota",
          "Toyota",
          "Toyota",
          "Toyota",
          "Toyota",
          "Toyota"
         ],
         "legendgroup": "Toyota",
         "marker": {
          "color": "#FFA15A",
          "size": [
           13.108,
           17.518,
           25.545,
           16.875,
           11.528,
           16.888,
           22.288,
           51.728
          ],
          "sizemode": "area",
          "sizeref": 0.03304,
          "symbol": "circle"
         },
         "mode": "markers",
         "name": "Toyota",
         "orientation": "v",
         "showlegend": true,
         "type": "scatter",
         "x": [
          33,
          27,
          26,
          31,
          23,
          27,
          23,
          15
         ],
         "xaxis": "x",
         "y": [
          13.108,
          17.518,
          25.545,
          16.875,
          11.528,
          16.888,
          22.288,
          51.728
         ],
         "yaxis": "y"
        },
        {
         "hovertemplate": "<b>%{hovertext}</b><br><br>Manufacturer=Volkswagen<br>Fuel_efficiency=%{x}<br>Price_in_thousands=%{marker.size}<extra></extra>",
         "hovertext": [
          "Volkswagen",
          "Volkswagen",
          "Volkswagen",
          "Volkswagen",
          "Volkswagen"
         ],
         "legendgroup": "Volkswagen",
         "marker": {
          "color": "#19d3f3",
          "size": [
           14.9,
           16.7,
           21.2,
           19.99,
           17.5
          ],
          "sizemode": "area",
          "sizeref": 0.03304,
          "symbol": "circle"
         },
         "mode": "markers",
         "name": "Volkswagen",
         "orientation": "v",
         "showlegend": true,
         "type": "scatter",
         "x": [
          26,
          26,
          27,
          26,
          26
         ],
         "xaxis": "x",
         "y": [
          14.9,
          16.7,
          21.2,
          19.99,
          17.5
         ],
         "yaxis": "y"
        }
       ],
       "layout": {
        "legend": {
         "itemsizing": "constant",
         "title": {
          "text": "Manufacturer"
         },
         "tracegroupgap": 0
        },
        "template": {
         "data": {
          "bar": [
           {
            "error_x": {
             "color": "#2a3f5f"
            },
            "error_y": {
             "color": "#2a3f5f"
            },
            "marker": {
             "line": {
              "color": "#E5ECF6",
              "width": 0.5
             },
             "pattern": {
              "fillmode": "overlay",
              "size": 10,
              "solidity": 0.2
             }
            },
            "type": "bar"
           }
          ],
          "barpolar": [
           {
            "marker": {
             "line": {
              "color": "#E5ECF6",
              "width": 0.5
             },
             "pattern": {
              "fillmode": "overlay",
              "size": 10,
              "solidity": 0.2
             }
            },
            "type": "barpolar"
           }
          ],
          "carpet": [
           {
            "aaxis": {
             "endlinecolor": "#2a3f5f",
             "gridcolor": "white",
             "linecolor": "white",
             "minorgridcolor": "white",
             "startlinecolor": "#2a3f5f"
            },
            "baxis": {
             "endlinecolor": "#2a3f5f",
             "gridcolor": "white",
             "linecolor": "white",
             "minorgridcolor": "white",
             "startlinecolor": "#2a3f5f"
            },
            "type": "carpet"
           }
          ],
          "choropleth": [
           {
            "colorbar": {
             "outlinewidth": 0,
             "ticks": ""
            },
            "type": "choropleth"
           }
          ],
          "contour": [
           {
            "colorbar": {
             "outlinewidth": 0,
             "ticks": ""
            },
            "colorscale": [
             [
              0,
              "#0d0887"
             ],
             [
              0.1111111111111111,
              "#46039f"
             ],
             [
              0.2222222222222222,
              "#7201a8"
             ],
             [
              0.3333333333333333,
              "#9c179e"
             ],
             [
              0.4444444444444444,
              "#bd3786"
             ],
             [
              0.5555555555555556,
              "#d8576b"
             ],
             [
              0.6666666666666666,
              "#ed7953"
             ],
             [
              0.7777777777777778,
              "#fb9f3a"
             ],
             [
              0.8888888888888888,
              "#fdca26"
             ],
             [
              1,
              "#f0f921"
             ]
            ],
            "type": "contour"
           }
          ],
          "contourcarpet": [
           {
            "colorbar": {
             "outlinewidth": 0,
             "ticks": ""
            },
            "type": "contourcarpet"
           }
          ],
          "heatmap": [
           {
            "colorbar": {
             "outlinewidth": 0,
             "ticks": ""
            },
            "colorscale": [
             [
              0,
              "#0d0887"
             ],
             [
              0.1111111111111111,
              "#46039f"
             ],
             [
              0.2222222222222222,
              "#7201a8"
             ],
             [
              0.3333333333333333,
              "#9c179e"
             ],
             [
              0.4444444444444444,
              "#bd3786"
             ],
             [
              0.5555555555555556,
              "#d8576b"
             ],
             [
              0.6666666666666666,
              "#ed7953"
             ],
             [
              0.7777777777777778,
              "#fb9f3a"
             ],
             [
              0.8888888888888888,
              "#fdca26"
             ],
             [
              1,
              "#f0f921"
             ]
            ],
            "type": "heatmap"
           }
          ],
          "heatmapgl": [
           {
            "colorbar": {
             "outlinewidth": 0,
             "ticks": ""
            },
            "colorscale": [
             [
              0,
              "#0d0887"
             ],
             [
              0.1111111111111111,
              "#46039f"
             ],
             [
              0.2222222222222222,
              "#7201a8"
             ],
             [
              0.3333333333333333,
              "#9c179e"
             ],
             [
              0.4444444444444444,
              "#bd3786"
             ],
             [
              0.5555555555555556,
              "#d8576b"
             ],
             [
              0.6666666666666666,
              "#ed7953"
             ],
             [
              0.7777777777777778,
              "#fb9f3a"
             ],
             [
              0.8888888888888888,
              "#fdca26"
             ],
             [
              1,
              "#f0f921"
             ]
            ],
            "type": "heatmapgl"
           }
          ],
          "histogram": [
           {
            "marker": {
             "pattern": {
              "fillmode": "overlay",
              "size": 10,
              "solidity": 0.2
             }
            },
            "type": "histogram"
           }
          ],
          "histogram2d": [
           {
            "colorbar": {
             "outlinewidth": 0,
             "ticks": ""
            },
            "colorscale": [
             [
              0,
              "#0d0887"
             ],
             [
              0.1111111111111111,
              "#46039f"
             ],
             [
              0.2222222222222222,
              "#7201a8"
             ],
             [
              0.3333333333333333,
              "#9c179e"
             ],
             [
              0.4444444444444444,
              "#bd3786"
             ],
             [
              0.5555555555555556,
              "#d8576b"
             ],
             [
              0.6666666666666666,
              "#ed7953"
             ],
             [
              0.7777777777777778,
              "#fb9f3a"
             ],
             [
              0.8888888888888888,
              "#fdca26"
             ],
             [
              1,
              "#f0f921"
             ]
            ],
            "type": "histogram2d"
           }
          ],
          "histogram2dcontour": [
           {
            "colorbar": {
             "outlinewidth": 0,
             "ticks": ""
            },
            "colorscale": [
             [
              0,
              "#0d0887"
             ],
             [
              0.1111111111111111,
              "#46039f"
             ],
             [
              0.2222222222222222,
              "#7201a8"
             ],
             [
              0.3333333333333333,
              "#9c179e"
             ],
             [
              0.4444444444444444,
              "#bd3786"
             ],
             [
              0.5555555555555556,
              "#d8576b"
             ],
             [
              0.6666666666666666,
              "#ed7953"
             ],
             [
              0.7777777777777778,
              "#fb9f3a"
             ],
             [
              0.8888888888888888,
              "#fdca26"
             ],
             [
              1,
              "#f0f921"
             ]
            ],
            "type": "histogram2dcontour"
           }
          ],
          "mesh3d": [
           {
            "colorbar": {
             "outlinewidth": 0,
             "ticks": ""
            },
            "type": "mesh3d"
           }
          ],
          "parcoords": [
           {
            "line": {
             "colorbar": {
              "outlinewidth": 0,
              "ticks": ""
             }
            },
            "type": "parcoords"
           }
          ],
          "pie": [
           {
            "automargin": true,
            "type": "pie"
           }
          ],
          "scatter": [
           {
            "fillpattern": {
             "fillmode": "overlay",
             "size": 10,
             "solidity": 0.2
            },
            "type": "scatter"
           }
          ],
          "scatter3d": [
           {
            "line": {
             "colorbar": {
              "outlinewidth": 0,
              "ticks": ""
             }
            },
            "marker": {
             "colorbar": {
              "outlinewidth": 0,
              "ticks": ""
             }
            },
            "type": "scatter3d"
           }
          ],
          "scattercarpet": [
           {
            "marker": {
             "colorbar": {
              "outlinewidth": 0,
              "ticks": ""
             }
            },
            "type": "scattercarpet"
           }
          ],
          "scattergeo": [
           {
            "marker": {
             "colorbar": {
              "outlinewidth": 0,
              "ticks": ""
             }
            },
            "type": "scattergeo"
           }
          ],
          "scattergl": [
           {
            "marker": {
             "colorbar": {
              "outlinewidth": 0,
              "ticks": ""
             }
            },
            "type": "scattergl"
           }
          ],
          "scattermapbox": [
           {
            "marker": {
             "colorbar": {
              "outlinewidth": 0,
              "ticks": ""
             }
            },
            "type": "scattermapbox"
           }
          ],
          "scatterpolar": [
           {
            "marker": {
             "colorbar": {
              "outlinewidth": 0,
              "ticks": ""
             }
            },
            "type": "scatterpolar"
           }
          ],
          "scatterpolargl": [
           {
            "marker": {
             "colorbar": {
              "outlinewidth": 0,
              "ticks": ""
             }
            },
            "type": "scatterpolargl"
           }
          ],
          "scatterternary": [
           {
            "marker": {
             "colorbar": {
              "outlinewidth": 0,
              "ticks": ""
             }
            },
            "type": "scatterternary"
           }
          ],
          "surface": [
           {
            "colorbar": {
             "outlinewidth": 0,
             "ticks": ""
            },
            "colorscale": [
             [
              0,
              "#0d0887"
             ],
             [
              0.1111111111111111,
              "#46039f"
             ],
             [
              0.2222222222222222,
              "#7201a8"
             ],
             [
              0.3333333333333333,
              "#9c179e"
             ],
             [
              0.4444444444444444,
              "#bd3786"
             ],
             [
              0.5555555555555556,
              "#d8576b"
             ],
             [
              0.6666666666666666,
              "#ed7953"
             ],
             [
              0.7777777777777778,
              "#fb9f3a"
             ],
             [
              0.8888888888888888,
              "#fdca26"
             ],
             [
              1,
              "#f0f921"
             ]
            ],
            "type": "surface"
           }
          ],
          "table": [
           {
            "cells": {
             "fill": {
              "color": "#EBF0F8"
             },
             "line": {
              "color": "white"
             }
            },
            "header": {
             "fill": {
              "color": "#C8D4E3"
             },
             "line": {
              "color": "white"
             }
            },
            "type": "table"
           }
          ]
         },
         "layout": {
          "annotationdefaults": {
           "arrowcolor": "#2a3f5f",
           "arrowhead": 0,
           "arrowwidth": 1
          },
          "autotypenumbers": "strict",
          "coloraxis": {
           "colorbar": {
            "outlinewidth": 0,
            "ticks": ""
           }
          },
          "colorscale": {
           "diverging": [
            [
             0,
             "#8e0152"
            ],
            [
             0.1,
             "#c51b7d"
            ],
            [
             0.2,
             "#de77ae"
            ],
            [
             0.3,
             "#f1b6da"
            ],
            [
             0.4,
             "#fde0ef"
            ],
            [
             0.5,
             "#f7f7f7"
            ],
            [
             0.6,
             "#e6f5d0"
            ],
            [
             0.7,
             "#b8e186"
            ],
            [
             0.8,
             "#7fbc41"
            ],
            [
             0.9,
             "#4d9221"
            ],
            [
             1,
             "#276419"
            ]
           ],
           "sequential": [
            [
             0,
             "#0d0887"
            ],
            [
             0.1111111111111111,
             "#46039f"
            ],
            [
             0.2222222222222222,
             "#7201a8"
            ],
            [
             0.3333333333333333,
             "#9c179e"
            ],
            [
             0.4444444444444444,
             "#bd3786"
            ],
            [
             0.5555555555555556,
             "#d8576b"
            ],
            [
             0.6666666666666666,
             "#ed7953"
            ],
            [
             0.7777777777777778,
             "#fb9f3a"
            ],
            [
             0.8888888888888888,
             "#fdca26"
            ],
            [
             1,
             "#f0f921"
            ]
           ],
           "sequentialminus": [
            [
             0,
             "#0d0887"
            ],
            [
             0.1111111111111111,
             "#46039f"
            ],
            [
             0.2222222222222222,
             "#7201a8"
            ],
            [
             0.3333333333333333,
             "#9c179e"
            ],
            [
             0.4444444444444444,
             "#bd3786"
            ],
            [
             0.5555555555555556,
             "#d8576b"
            ],
            [
             0.6666666666666666,
             "#ed7953"
            ],
            [
             0.7777777777777778,
             "#fb9f3a"
            ],
            [
             0.8888888888888888,
             "#fdca26"
            ],
            [
             1,
             "#f0f921"
            ]
           ]
          },
          "colorway": [
           "#636efa",
           "#EF553B",
           "#00cc96",
           "#ab63fa",
           "#FFA15A",
           "#19d3f3",
           "#FF6692",
           "#B6E880",
           "#FF97FF",
           "#FECB52"
          ],
          "font": {
           "color": "#2a3f5f"
          },
          "geo": {
           "bgcolor": "white",
           "lakecolor": "white",
           "landcolor": "#E5ECF6",
           "showlakes": true,
           "showland": true,
           "subunitcolor": "white"
          },
          "hoverlabel": {
           "align": "left"
          },
          "hovermode": "closest",
          "mapbox": {
           "style": "light"
          },
          "paper_bgcolor": "white",
          "plot_bgcolor": "#E5ECF6",
          "polar": {
           "angularaxis": {
            "gridcolor": "white",
            "linecolor": "white",
            "ticks": ""
           },
           "bgcolor": "#E5ECF6",
           "radialaxis": {
            "gridcolor": "white",
            "linecolor": "white",
            "ticks": ""
           }
          },
          "scene": {
           "xaxis": {
            "backgroundcolor": "#E5ECF6",
            "gridcolor": "white",
            "gridwidth": 2,
            "linecolor": "white",
            "showbackground": true,
            "ticks": "",
            "zerolinecolor": "white"
           },
           "yaxis": {
            "backgroundcolor": "#E5ECF6",
            "gridcolor": "white",
            "gridwidth": 2,
            "linecolor": "white",
            "showbackground": true,
            "ticks": "",
            "zerolinecolor": "white"
           },
           "zaxis": {
            "backgroundcolor": "#E5ECF6",
            "gridcolor": "white",
            "gridwidth": 2,
            "linecolor": "white",
            "showbackground": true,
            "ticks": "",
            "zerolinecolor": "white"
           }
          },
          "shapedefaults": {
           "line": {
            "color": "#2a3f5f"
           }
          },
          "ternary": {
           "aaxis": {
            "gridcolor": "white",
            "linecolor": "white",
            "ticks": ""
           },
           "baxis": {
            "gridcolor": "white",
            "linecolor": "white",
            "ticks": ""
           },
           "bgcolor": "#E5ECF6",
           "caxis": {
            "gridcolor": "white",
            "linecolor": "white",
            "ticks": ""
           }
          },
          "title": {
           "x": 0.05
          },
          "xaxis": {
           "automargin": true,
           "gridcolor": "white",
           "linecolor": "white",
           "ticks": "",
           "title": {
            "standoff": 15
           },
           "zerolinecolor": "white",
           "zerolinewidth": 2
          },
          "yaxis": {
           "automargin": true,
           "gridcolor": "white",
           "linecolor": "white",
           "ticks": "",
           "title": {
            "standoff": 15
           },
           "zerolinecolor": "white",
           "zerolinewidth": 2
          }
         }
        },
        "title": {
         "text": "Car Brands That Have Sold by Fuel Efficency"
        },
        "xaxis": {
         "anchor": "y",
         "domain": [
          0,
          1
         ],
         "title": {
          "text": "Fuel_efficiency"
         },
         "type": "log"
        },
        "yaxis": {
         "anchor": "x",
         "domain": [
          0,
          1
         ],
         "title": {
          "text": "Price_in_thousands"
         }
        }
       }
      },
      "text/html": [
       "<div>                            <div id=\"134f3d55-46bd-4b39-ba9f-85823d383591\" class=\"plotly-graph-div\" style=\"height:525px; width:100%;\"></div>            <script type=\"text/javascript\">                require([\"plotly\"], function(Plotly) {                    window.PLOTLYENV=window.PLOTLYENV || {};                                    if (document.getElementById(\"134f3d55-46bd-4b39-ba9f-85823d383591\")) {                    Plotly.newPlot(                        \"134f3d55-46bd-4b39-ba9f-85823d383591\",                        [{\"hovertemplate\":\"<b>%{hovertext}</b><br><br>Manufacturer=Acura<br>Fuel_efficiency=%{x}<br>Price_in_thousands=%{marker.size}<extra></extra>\",\"hovertext\":[\"Acura\",\"Acura\",\"Acura\"],\"legendgroup\":\"Acura\",\"marker\":{\"color\":\"#636efa\",\"size\":[21.5,28.4,42.0],\"sizemode\":\"area\",\"sizeref\":0.03304,\"symbol\":\"circle\"},\"mode\":\"markers\",\"name\":\"Acura\",\"orientation\":\"v\",\"showlegend\":true,\"x\":[28.0,25.0,22.0],\"xaxis\":\"x\",\"y\":[21.5,28.4,42.0],\"yaxis\":\"y\",\"type\":\"scatter\"},{\"hovertemplate\":\"<b>%{hovertext}</b><br><br>Manufacturer=Audi<br>Fuel_efficiency=%{x}<br>Price_in_thousands=%{marker.size}<extra></extra>\",\"hovertext\":[\"Audi\",\"Audi\",\"Audi\"],\"legendgroup\":\"Audi\",\"marker\":{\"color\":\"#EF553B\",\"size\":[23.99,33.95,62.0],\"sizemode\":\"area\",\"sizeref\":0.03304,\"symbol\":\"circle\"},\"mode\":\"markers\",\"name\":\"Audi\",\"orientation\":\"v\",\"showlegend\":true,\"x\":[27.0,22.0,21.0],\"xaxis\":\"x\",\"y\":[23.99,33.95,62.0],\"yaxis\":\"y\",\"type\":\"scatter\"},{\"hovertemplate\":\"<b>%{hovertext}</b><br><br>Manufacturer=BMW<br>Fuel_efficiency=%{x}<br>Price_in_thousands=%{marker.size}<extra></extra>\",\"hovertext\":[\"BMW\",\"BMW\"],\"legendgroup\":\"BMW\",\"marker\":{\"color\":\"#00cc96\",\"size\":[33.4,38.9],\"sizemode\":\"area\",\"sizeref\":0.03304,\"symbol\":\"circle\"},\"mode\":\"markers\",\"name\":\"BMW\",\"orientation\":\"v\",\"showlegend\":true,\"x\":[24.0,25.0],\"xaxis\":\"x\",\"y\":[33.4,38.9],\"yaxis\":\"y\",\"type\":\"scatter\"},{\"hovertemplate\":\"<b>%{hovertext}</b><br><br>Manufacturer=Buick<br>Fuel_efficiency=%{x}<br>Price_in_thousands=%{marker.size}<extra></extra>\",\"hovertext\":[\"Buick\",\"Buick\",\"Buick\",\"Buick\"],\"legendgroup\":\"Buick\",\"marker\":{\"color\":\"#ab63fa\",\"size\":[21.975,25.3,31.965,27.885],\"sizemode\":\"area\",\"sizeref\":0.03304,\"symbol\":\"circle\"},\"mode\":\"markers\",\"name\":\"Buick\",\"orientation\":\"v\",\"showlegend\":true,\"x\":[25.0,23.0,24.0,25.0],\"xaxis\":\"x\",\"y\":[21.975,25.3,31.965,27.885],\"yaxis\":\"y\",\"type\":\"scatter\"},{\"hovertemplate\":\"<b>%{hovertext}</b><br><br>Manufacturer=Cadillac<br>Fuel_efficiency=%{x}<br>Price_in_thousands=%{marker.size}<extra></extra>\",\"hovertext\":[\"Cadillac\",\"Cadillac\",\"Cadillac\"],\"legendgroup\":\"Cadillac\",\"marker\":{\"color\":\"#FFA15A\",\"size\":[39.895,39.665,31.01],\"sizemode\":\"area\",\"sizeref\":0.03304,\"symbol\":\"circle\"},\"mode\":\"markers\",\"name\":\"Cadillac\",\"orientation\":\"v\",\"showlegend\":true,\"x\":[22.0,22.0,22.0],\"xaxis\":\"x\",\"y\":[39.895,39.665,31.01],\"yaxis\":\"y\",\"type\":\"scatter\"},{\"hovertemplate\":\"<b>%{hovertext}</b><br><br>Manufacturer=Chevrolet<br>Fuel_efficiency=%{x}<br>Price_in_thousands=%{marker.size}<extra></extra>\",\"hovertext\":[\"Chevrolet\",\"Chevrolet\",\"Chevrolet\",\"Chevrolet\",\"Chevrolet\",\"Chevrolet\",\"Chevrolet\",\"Chevrolet\"],\"legendgroup\":\"Chevrolet\",\"marker\":{\"color\":\"#19d3f3\",\"size\":[13.26,16.535,18.89,19.39,24.34,45.705,13.96,9.235],\"sizemode\":\"area\",\"sizeref\":0.03304,\"symbol\":\"circle\"},\"mode\":\"markers\",\"name\":\"Chevrolet\",\"orientation\":\"v\",\"showlegend\":true,\"x\":[27.0,25.0,25.0,27.0,25.0,22.0,33.0,45.0],\"xaxis\":\"x\",\"y\":[13.26,16.535,18.89,19.39,24.34,45.705,13.96,9.235],\"yaxis\":\"y\",\"type\":\"scatter\"},{\"hovertemplate\":\"<b>%{hovertext}</b><br><br>Manufacturer=Chrysler<br>Fuel_efficiency=%{x}<br>Price_in_thousands=%{marker.size}<extra></extra>\",\"hovertext\":[\"Chrysler\",\"Chrysler\",\"Chrysler\",\"Chrysler\",\"Chrysler\"],\"legendgroup\":\"Chrysler\",\"marker\":{\"color\":\"#FF6692\",\"size\":[19.84,24.495,22.245,16.48,28.34],\"sizemode\":\"area\",\"sizeref\":0.03304,\"symbol\":\"circle\"},\"mode\":\"markers\",\"name\":\"Chrysler\",\"orientation\":\"v\",\"showlegend\":true,\"x\":[24.0,24.0,26.0,27.0,23.0],\"xaxis\":\"x\",\"y\":[19.84,24.495,22.245,16.48,28.34],\"yaxis\":\"y\",\"type\":\"scatter\"},{\"hovertemplate\":\"<b>%{hovertext}</b><br><br>Manufacturer=Dodge<br>Fuel_efficiency=%{x}<br>Price_in_thousands=%{marker.size}<extra></extra>\",\"hovertext\":[\"Dodge\",\"Dodge\",\"Dodge\",\"Dodge\",\"Dodge\",\"Dodge\",\"Dodge\",\"Dodge\",\"Dodge\"],\"legendgroup\":\"Dodge\",\"marker\":{\"color\":\"#B6E880\",\"size\":[12.64,19.045,20.23,69.725,19.46,21.315,18.575,16.98,19.565],\"sizemode\":\"area\",\"sizeref\":0.03304,\"symbol\":\"circle\"},\"mode\":\"markers\",\"name\":\"Dodge\",\"orientation\":\"v\",\"showlegend\":true,\"x\":[29.0,24.0,24.0,16.0,17.0,15.0,16.0,19.0,24.0],\"xaxis\":\"x\",\"y\":[12.64,19.045,20.23,69.725,19.46,21.315,18.575,16.98,19.565],\"yaxis\":\"y\",\"type\":\"scatter\"},{\"hovertemplate\":\"<b>%{hovertext}</b><br><br>Manufacturer=Ford<br>Fuel_efficiency=%{x}<br>Price_in_thousands=%{marker.size}<extra></extra>\",\"hovertext\":[\"Ford\",\"Ford\",\"Ford\",\"Ford\",\"Ford\",\"Ford\",\"Ford\",\"Ford\",\"Ford\",\"Ford\"],\"legendgroup\":\"Ford\",\"marker\":{\"color\":\"#FF97FF\",\"size\":[12.07,21.56,17.035,17.885,22.195,31.93,21.41,36.135,12.05,26.935],\"sizemode\":\"area\",\"sizeref\":0.03304,\"symbol\":\"circle\"},\"mode\":\"markers\",\"name\":\"Ford\",\"orientation\":\"v\",\"showlegend\":true,\"x\":[30.0,24.0,25.0,24.0,21.0,19.0,21.0,16.0,23.0,18.0],\"xaxis\":\"x\",\"y\":[12.07,21.56,17.035,17.885,22.195,31.93,21.41,36.135,12.05,26.935],\"yaxis\":\"y\",\"type\":\"scatter\"},{\"hovertemplate\":\"<b>%{hovertext}</b><br><br>Manufacturer=Honda<br>Fuel_efficiency=%{x}<br>Price_in_thousands=%{marker.size}<extra></extra>\",\"hovertext\":[\"Honda\",\"Honda\",\"Honda\",\"Honda\",\"Honda\"],\"legendgroup\":\"Honda\",\"marker\":{\"color\":\"#FECB52\",\"size\":[12.885,15.35,20.55,26.6,26.0],\"sizemode\":\"area\",\"sizeref\":0.03304,\"symbol\":\"circle\"},\"mode\":\"markers\",\"name\":\"Honda\",\"orientation\":\"v\",\"showlegend\":true,\"x\":[32.0,27.0,24.0,19.0,23.0],\"xaxis\":\"x\",\"y\":[12.885,15.35,20.55,26.6,26.0],\"yaxis\":\"y\",\"type\":\"scatter\"},{\"hovertemplate\":\"<b>%{hovertext}</b><br><br>Manufacturer=Hyundai<br>Fuel_efficiency=%{x}<br>Price_in_thousands=%{marker.size}<extra></extra>\",\"hovertext\":[\"Hyundai\",\"Hyundai\",\"Hyundai\"],\"legendgroup\":\"Hyundai\",\"marker\":{\"color\":\"#636efa\",\"size\":[9.699,11.799,14.999],\"sizemode\":\"area\",\"sizeref\":0.03304,\"symbol\":\"circle\"},\"mode\":\"markers\",\"name\":\"Hyundai\",\"orientation\":\"v\",\"showlegend\":true,\"x\":[31.0,27.0,25.0],\"xaxis\":\"x\",\"y\":[9.699,11.799,14.999],\"yaxis\":\"y\",\"type\":\"scatter\"},{\"hovertemplate\":\"<b>%{hovertext}</b><br><br>Manufacturer=Infiniti<br>Fuel_efficiency=%{x}<br>Price_in_thousands=%{marker.size}<extra></extra>\",\"hovertext\":[\"Infiniti\"],\"legendgroup\":\"Infiniti\",\"marker\":{\"color\":\"#EF553B\",\"size\":[29.465],\"sizemode\":\"area\",\"sizeref\":0.03304,\"symbol\":\"circle\"},\"mode\":\"markers\",\"name\":\"Infiniti\",\"orientation\":\"v\",\"showlegend\":true,\"x\":[25.0],\"xaxis\":\"x\",\"y\":[29.465],\"yaxis\":\"y\",\"type\":\"scatter\"},{\"hovertemplate\":\"<b>%{hovertext}</b><br><br>Manufacturer=Jeep<br>Fuel_efficiency=%{x}<br>Price_in_thousands=%{marker.size}<extra></extra>\",\"hovertext\":[\"Jeep\",\"Jeep\",\"Jeep\"],\"legendgroup\":\"Jeep\",\"marker\":{\"color\":\"#00cc96\",\"size\":[14.46,21.62,26.895],\"sizemode\":\"area\",\"sizeref\":0.03304,\"symbol\":\"circle\"},\"mode\":\"markers\",\"name\":\"Jeep\",\"orientation\":\"v\",\"showlegend\":true,\"x\":[17.0,20.0,19.0],\"xaxis\":\"x\",\"y\":[14.46,21.62,26.895],\"yaxis\":\"y\",\"type\":\"scatter\"},{\"hovertemplate\":\"<b>%{hovertext}</b><br><br>Manufacturer=Lexus<br>Fuel_efficiency=%{x}<br>Price_in_thousands=%{marker.size}<extra></extra>\",\"hovertext\":[\"Lexus\",\"Lexus\",\"Lexus\"],\"legendgroup\":\"Lexus\",\"marker\":{\"color\":\"#ab63fa\",\"size\":[31.505,37.805,54.005],\"sizemode\":\"area\",\"sizeref\":0.03304,\"symbol\":\"circle\"},\"mode\":\"markers\",\"name\":\"Lexus\",\"orientation\":\"v\",\"showlegend\":true,\"x\":[23.0,23.0,22.0],\"xaxis\":\"x\",\"y\":[31.505,37.805,54.005],\"yaxis\":\"y\",\"type\":\"scatter\"},{\"hovertemplate\":\"<b>%{hovertext}</b><br><br>Manufacturer=Lincoln<br>Fuel_efficiency=%{x}<br>Price_in_thousands=%{marker.size}<extra></extra>\",\"hovertext\":[\"Lincoln\",\"Lincoln\"],\"legendgroup\":\"Lincoln\",\"marker\":{\"color\":\"#FFA15A\",\"size\":[39.08,43.33],\"sizemode\":\"area\",\"sizeref\":0.03304,\"symbol\":\"circle\"},\"mode\":\"markers\",\"name\":\"Lincoln\",\"orientation\":\"v\",\"showlegend\":true,\"x\":[22.0,21.0],\"xaxis\":\"x\",\"y\":[39.08,43.33],\"yaxis\":\"y\",\"type\":\"scatter\"},{\"hovertemplate\":\"<b>%{hovertext}</b><br><br>Manufacturer=Mitsubishi<br>Fuel_efficiency=%{x}<br>Price_in_thousands=%{marker.size}<extra></extra>\",\"hovertext\":[\"Mitsubishi\",\"Mitsubishi\",\"Mitsubishi\",\"Mitsubishi\",\"Mitsubishi\",\"Mitsubishi\",\"Mitsubishi\"],\"legendgroup\":\"Mitsubishi\",\"marker\":{\"color\":\"#19d3f3\",\"size\":[13.987,19.047,17.357,24.997,25.45,31.807,22.527],\"sizemode\":\"area\",\"sizeref\":0.03304,\"symbol\":\"circle\"},\"mode\":\"markers\",\"name\":\"Mitsubishi\",\"orientation\":\"v\",\"showlegend\":true,\"x\":[30.0,24.0,25.0,22.0,21.0,18.0,20.0],\"xaxis\":\"x\",\"y\":[13.987,19.047,17.357,24.997,25.45,31.807,22.527],\"yaxis\":\"y\",\"type\":\"scatter\"},{\"hovertemplate\":\"<b>%{hovertext}</b><br><br>Manufacturer=Mercury<br>Fuel_efficiency=%{x}<br>Price_in_thousands=%{marker.size}<extra></extra>\",\"hovertext\":[\"Mercury\",\"Mercury\",\"Mercury\",\"Mercury\",\"Mercury\",\"Mercury\"],\"legendgroup\":\"Mercury\",\"marker\":{\"color\":\"#FF6692\",\"size\":[16.24,16.54,19.035,22.605,27.56,22.51],\"sizemode\":\"area\",\"sizeref\":0.03304,\"symbol\":\"circle\"},\"mode\":\"markers\",\"name\":\"Mercury\",\"orientation\":\"v\",\"showlegend\":true,\"x\":[28.0,30.0,24.0,21.0,18.0,21.0],\"xaxis\":\"x\",\"y\":[16.24,16.54,19.035,22.605,27.56,22.51],\"yaxis\":\"y\",\"type\":\"scatter\"},{\"hovertemplate\":\"<b>%{hovertext}</b><br><br>Manufacturer=Mercedes-B<br>Fuel_efficiency=%{x}<br>Price_in_thousands=%{marker.size}<extra></extra>\",\"hovertext\":[\"Mercedes-B\",\"Mercedes-B\",\"Mercedes-B\",\"Mercedes-B\"],\"legendgroup\":\"Mercedes-B\",\"marker\":{\"color\":\"#B6E880\",\"size\":[31.75,49.9,69.7,82.6],\"sizemode\":\"area\",\"sizeref\":0.03304,\"symbol\":\"circle\"},\"mode\":\"markers\",\"name\":\"Mercedes-B\",\"orientation\":\"v\",\"showlegend\":true,\"x\":[26.0,25.0,21.0,20.0],\"xaxis\":\"x\",\"y\":[31.75,49.9,69.7,82.6],\"yaxis\":\"y\",\"type\":\"scatter\"},{\"hovertemplate\":\"<b>%{hovertext}</b><br><br>Manufacturer=Nissan<br>Fuel_efficiency=%{x}<br>Price_in_thousands=%{marker.size}<extra></extra>\",\"hovertext\":[\"Nissan\",\"Nissan\",\"Nissan\",\"Nissan\",\"Nissan\"],\"legendgroup\":\"Nissan\",\"marker\":{\"color\":\"#FF97FF\",\"size\":[13.499,20.39,26.249,26.399,29.299],\"sizemode\":\"area\",\"sizeref\":0.03304,\"symbol\":\"circle\"},\"mode\":\"markers\",\"name\":\"Nissan\",\"orientation\":\"v\",\"showlegend\":true,\"x\":[30.0,25.0,25.0,21.0,19.0],\"xaxis\":\"x\",\"y\":[13.499,20.39,26.249,26.399,29.299],\"yaxis\":\"y\",\"type\":\"scatter\"},{\"hovertemplate\":\"<b>%{hovertext}</b><br><br>Manufacturer=Oldsmobile<br>Fuel_efficiency=%{x}<br>Price_in_thousands=%{marker.size}<extra></extra>\",\"hovertext\":[\"Oldsmobile\",\"Oldsmobile\",\"Oldsmobile\",\"Oldsmobile\"],\"legendgroup\":\"Oldsmobile\",\"marker\":{\"color\":\"#FECB52\",\"size\":[18.145,36.229,31.598,25.345],\"sizemode\":\"area\",\"sizeref\":0.03304,\"symbol\":\"circle\"},\"mode\":\"markers\",\"name\":\"Oldsmobile\",\"orientation\":\"v\",\"showlegend\":true,\"x\":[25.0,22.0,19.0,22.0],\"xaxis\":\"x\",\"y\":[18.145,36.229,31.598,25.345],\"yaxis\":\"y\",\"type\":\"scatter\"},{\"hovertemplate\":\"<b>%{hovertext}</b><br><br>Manufacturer=Plymouth<br>Fuel_efficiency=%{x}<br>Price_in_thousands=%{marker.size}<extra></extra>\",\"hovertext\":[\"Plymouth\",\"Plymouth\",\"Plymouth\"],\"legendgroup\":\"Plymouth\",\"marker\":{\"color\":\"#636efa\",\"size\":[12.64,16.08,18.85],\"sizemode\":\"area\",\"sizeref\":0.03304,\"symbol\":\"circle\"},\"mode\":\"markers\",\"name\":\"Plymouth\",\"orientation\":\"v\",\"showlegend\":true,\"x\":[29.0,27.0,24.0],\"xaxis\":\"x\",\"y\":[12.64,16.08,18.85],\"yaxis\":\"y\",\"type\":\"scatter\"},{\"hovertemplate\":\"<b>%{hovertext}</b><br><br>Manufacturer=Pontiac<br>Fuel_efficiency=%{x}<br>Price_in_thousands=%{marker.size}<extra></extra>\",\"hovertext\":[\"Pontiac\",\"Pontiac\",\"Pontiac\",\"Pontiac\",\"Pontiac\"],\"legendgroup\":\"Pontiac\",\"marker\":{\"color\":\"#EF553B\",\"size\":[21.61,19.72,25.31,21.665,23.755],\"sizemode\":\"area\",\"sizeref\":0.03304,\"symbol\":\"circle\"},\"mode\":\"markers\",\"name\":\"Pontiac\",\"orientation\":\"v\",\"showlegend\":true,\"x\":[27.0,25.0,25.0,25.0,24.0],\"xaxis\":\"x\",\"y\":[21.61,19.72,25.31,21.665,23.755],\"yaxis\":\"y\",\"type\":\"scatter\"},{\"hovertemplate\":\"<b>%{hovertext}</b><br><br>Manufacturer=Porsche<br>Fuel_efficiency=%{x}<br>Price_in_thousands=%{marker.size}<extra></extra>\",\"hovertext\":[\"Porsche\",\"Porsche\",\"Porsche\"],\"legendgroup\":\"Porsche\",\"marker\":{\"color\":\"#00cc96\",\"size\":[41.43,71.02,74.97],\"sizemode\":\"area\",\"sizeref\":0.03304,\"symbol\":\"circle\"},\"mode\":\"markers\",\"name\":\"Porsche\",\"orientation\":\"v\",\"showlegend\":true,\"x\":[22.0,21.0,23.0],\"xaxis\":\"x\",\"y\":[41.43,71.02,74.97],\"yaxis\":\"y\",\"type\":\"scatter\"},{\"hovertemplate\":\"<b>%{hovertext}</b><br><br>Manufacturer=Saturn<br>Fuel_efficiency=%{x}<br>Price_in_thousands=%{marker.size}<extra></extra>\",\"hovertext\":[\"Saturn\",\"Saturn\",\"Saturn\"],\"legendgroup\":\"Saturn\",\"marker\":{\"color\":\"#ab63fa\",\"size\":[10.685,12.535,14.29],\"sizemode\":\"area\",\"sizeref\":0.03304,\"symbol\":\"circle\"},\"mode\":\"markers\",\"name\":\"Saturn\",\"orientation\":\"v\",\"showlegend\":true,\"x\":[33.0,33.0,31.0],\"xaxis\":\"x\",\"y\":[10.685,12.535,14.29],\"yaxis\":\"y\",\"type\":\"scatter\"},{\"hovertemplate\":\"<b>%{hovertext}</b><br><br>Manufacturer=Toyota<br>Fuel_efficiency=%{x}<br>Price_in_thousands=%{marker.size}<extra></extra>\",\"hovertext\":[\"Toyota\",\"Toyota\",\"Toyota\",\"Toyota\",\"Toyota\",\"Toyota\",\"Toyota\",\"Toyota\"],\"legendgroup\":\"Toyota\",\"marker\":{\"color\":\"#FFA15A\",\"size\":[13.108,17.518,25.545,16.875,11.528,16.888,22.288,51.728],\"sizemode\":\"area\",\"sizeref\":0.03304,\"symbol\":\"circle\"},\"mode\":\"markers\",\"name\":\"Toyota\",\"orientation\":\"v\",\"showlegend\":true,\"x\":[33.0,27.0,26.0,31.0,23.0,27.0,23.0,15.0],\"xaxis\":\"x\",\"y\":[13.108,17.518,25.545,16.875,11.528,16.888,22.288,51.728],\"yaxis\":\"y\",\"type\":\"scatter\"},{\"hovertemplate\":\"<b>%{hovertext}</b><br><br>Manufacturer=Volkswagen<br>Fuel_efficiency=%{x}<br>Price_in_thousands=%{marker.size}<extra></extra>\",\"hovertext\":[\"Volkswagen\",\"Volkswagen\",\"Volkswagen\",\"Volkswagen\",\"Volkswagen\"],\"legendgroup\":\"Volkswagen\",\"marker\":{\"color\":\"#19d3f3\",\"size\":[14.9,16.7,21.2,19.99,17.5],\"sizemode\":\"area\",\"sizeref\":0.03304,\"symbol\":\"circle\"},\"mode\":\"markers\",\"name\":\"Volkswagen\",\"orientation\":\"v\",\"showlegend\":true,\"x\":[26.0,26.0,27.0,26.0,26.0],\"xaxis\":\"x\",\"y\":[14.9,16.7,21.2,19.99,17.5],\"yaxis\":\"y\",\"type\":\"scatter\"}],                        {\"template\":{\"data\":{\"histogram2dcontour\":[{\"type\":\"histogram2dcontour\",\"colorbar\":{\"outlinewidth\":0,\"ticks\":\"\"},\"colorscale\":[[0.0,\"#0d0887\"],[0.1111111111111111,\"#46039f\"],[0.2222222222222222,\"#7201a8\"],[0.3333333333333333,\"#9c179e\"],[0.4444444444444444,\"#bd3786\"],[0.5555555555555556,\"#d8576b\"],[0.6666666666666666,\"#ed7953\"],[0.7777777777777778,\"#fb9f3a\"],[0.8888888888888888,\"#fdca26\"],[1.0,\"#f0f921\"]]}],\"choropleth\":[{\"type\":\"choropleth\",\"colorbar\":{\"outlinewidth\":0,\"ticks\":\"\"}}],\"histogram2d\":[{\"type\":\"histogram2d\",\"colorbar\":{\"outlinewidth\":0,\"ticks\":\"\"},\"colorscale\":[[0.0,\"#0d0887\"],[0.1111111111111111,\"#46039f\"],[0.2222222222222222,\"#7201a8\"],[0.3333333333333333,\"#9c179e\"],[0.4444444444444444,\"#bd3786\"],[0.5555555555555556,\"#d8576b\"],[0.6666666666666666,\"#ed7953\"],[0.7777777777777778,\"#fb9f3a\"],[0.8888888888888888,\"#fdca26\"],[1.0,\"#f0f921\"]]}],\"heatmap\":[{\"type\":\"heatmap\",\"colorbar\":{\"outlinewidth\":0,\"ticks\":\"\"},\"colorscale\":[[0.0,\"#0d0887\"],[0.1111111111111111,\"#46039f\"],[0.2222222222222222,\"#7201a8\"],[0.3333333333333333,\"#9c179e\"],[0.4444444444444444,\"#bd3786\"],[0.5555555555555556,\"#d8576b\"],[0.6666666666666666,\"#ed7953\"],[0.7777777777777778,\"#fb9f3a\"],[0.8888888888888888,\"#fdca26\"],[1.0,\"#f0f921\"]]}],\"heatmapgl\":[{\"type\":\"heatmapgl\",\"colorbar\":{\"outlinewidth\":0,\"ticks\":\"\"},\"colorscale\":[[0.0,\"#0d0887\"],[0.1111111111111111,\"#46039f\"],[0.2222222222222222,\"#7201a8\"],[0.3333333333333333,\"#9c179e\"],[0.4444444444444444,\"#bd3786\"],[0.5555555555555556,\"#d8576b\"],[0.6666666666666666,\"#ed7953\"],[0.7777777777777778,\"#fb9f3a\"],[0.8888888888888888,\"#fdca26\"],[1.0,\"#f0f921\"]]}],\"contourcarpet\":[{\"type\":\"contourcarpet\",\"colorbar\":{\"outlinewidth\":0,\"ticks\":\"\"}}],\"contour\":[{\"type\":\"contour\",\"colorbar\":{\"outlinewidth\":0,\"ticks\":\"\"},\"colorscale\":[[0.0,\"#0d0887\"],[0.1111111111111111,\"#46039f\"],[0.2222222222222222,\"#7201a8\"],[0.3333333333333333,\"#9c179e\"],[0.4444444444444444,\"#bd3786\"],[0.5555555555555556,\"#d8576b\"],[0.6666666666666666,\"#ed7953\"],[0.7777777777777778,\"#fb9f3a\"],[0.8888888888888888,\"#fdca26\"],[1.0,\"#f0f921\"]]}],\"surface\":[{\"type\":\"surface\",\"colorbar\":{\"outlinewidth\":0,\"ticks\":\"\"},\"colorscale\":[[0.0,\"#0d0887\"],[0.1111111111111111,\"#46039f\"],[0.2222222222222222,\"#7201a8\"],[0.3333333333333333,\"#9c179e\"],[0.4444444444444444,\"#bd3786\"],[0.5555555555555556,\"#d8576b\"],[0.6666666666666666,\"#ed7953\"],[0.7777777777777778,\"#fb9f3a\"],[0.8888888888888888,\"#fdca26\"],[1.0,\"#f0f921\"]]}],\"mesh3d\":[{\"type\":\"mesh3d\",\"colorbar\":{\"outlinewidth\":0,\"ticks\":\"\"}}],\"scatter\":[{\"fillpattern\":{\"fillmode\":\"overlay\",\"size\":10,\"solidity\":0.2},\"type\":\"scatter\"}],\"parcoords\":[{\"type\":\"parcoords\",\"line\":{\"colorbar\":{\"outlinewidth\":0,\"ticks\":\"\"}}}],\"scatterpolargl\":[{\"type\":\"scatterpolargl\",\"marker\":{\"colorbar\":{\"outlinewidth\":0,\"ticks\":\"\"}}}],\"bar\":[{\"error_x\":{\"color\":\"#2a3f5f\"},\"error_y\":{\"color\":\"#2a3f5f\"},\"marker\":{\"line\":{\"color\":\"#E5ECF6\",\"width\":0.5},\"pattern\":{\"fillmode\":\"overlay\",\"size\":10,\"solidity\":0.2}},\"type\":\"bar\"}],\"scattergeo\":[{\"type\":\"scattergeo\",\"marker\":{\"colorbar\":{\"outlinewidth\":0,\"ticks\":\"\"}}}],\"scatterpolar\":[{\"type\":\"scatterpolar\",\"marker\":{\"colorbar\":{\"outlinewidth\":0,\"ticks\":\"\"}}}],\"histogram\":[{\"marker\":{\"pattern\":{\"fillmode\":\"overlay\",\"size\":10,\"solidity\":0.2}},\"type\":\"histogram\"}],\"scattergl\":[{\"type\":\"scattergl\",\"marker\":{\"colorbar\":{\"outlinewidth\":0,\"ticks\":\"\"}}}],\"scatter3d\":[{\"type\":\"scatter3d\",\"line\":{\"colorbar\":{\"outlinewidth\":0,\"ticks\":\"\"}},\"marker\":{\"colorbar\":{\"outlinewidth\":0,\"ticks\":\"\"}}}],\"scattermapbox\":[{\"type\":\"scattermapbox\",\"marker\":{\"colorbar\":{\"outlinewidth\":0,\"ticks\":\"\"}}}],\"scatterternary\":[{\"type\":\"scatterternary\",\"marker\":{\"colorbar\":{\"outlinewidth\":0,\"ticks\":\"\"}}}],\"scattercarpet\":[{\"type\":\"scattercarpet\",\"marker\":{\"colorbar\":{\"outlinewidth\":0,\"ticks\":\"\"}}}],\"carpet\":[{\"aaxis\":{\"endlinecolor\":\"#2a3f5f\",\"gridcolor\":\"white\",\"linecolor\":\"white\",\"minorgridcolor\":\"white\",\"startlinecolor\":\"#2a3f5f\"},\"baxis\":{\"endlinecolor\":\"#2a3f5f\",\"gridcolor\":\"white\",\"linecolor\":\"white\",\"minorgridcolor\":\"white\",\"startlinecolor\":\"#2a3f5f\"},\"type\":\"carpet\"}],\"table\":[{\"cells\":{\"fill\":{\"color\":\"#EBF0F8\"},\"line\":{\"color\":\"white\"}},\"header\":{\"fill\":{\"color\":\"#C8D4E3\"},\"line\":{\"color\":\"white\"}},\"type\":\"table\"}],\"barpolar\":[{\"marker\":{\"line\":{\"color\":\"#E5ECF6\",\"width\":0.5},\"pattern\":{\"fillmode\":\"overlay\",\"size\":10,\"solidity\":0.2}},\"type\":\"barpolar\"}],\"pie\":[{\"automargin\":true,\"type\":\"pie\"}]},\"layout\":{\"autotypenumbers\":\"strict\",\"colorway\":[\"#636efa\",\"#EF553B\",\"#00cc96\",\"#ab63fa\",\"#FFA15A\",\"#19d3f3\",\"#FF6692\",\"#B6E880\",\"#FF97FF\",\"#FECB52\"],\"font\":{\"color\":\"#2a3f5f\"},\"hovermode\":\"closest\",\"hoverlabel\":{\"align\":\"left\"},\"paper_bgcolor\":\"white\",\"plot_bgcolor\":\"#E5ECF6\",\"polar\":{\"bgcolor\":\"#E5ECF6\",\"angularaxis\":{\"gridcolor\":\"white\",\"linecolor\":\"white\",\"ticks\":\"\"},\"radialaxis\":{\"gridcolor\":\"white\",\"linecolor\":\"white\",\"ticks\":\"\"}},\"ternary\":{\"bgcolor\":\"#E5ECF6\",\"aaxis\":{\"gridcolor\":\"white\",\"linecolor\":\"white\",\"ticks\":\"\"},\"baxis\":{\"gridcolor\":\"white\",\"linecolor\":\"white\",\"ticks\":\"\"},\"caxis\":{\"gridcolor\":\"white\",\"linecolor\":\"white\",\"ticks\":\"\"}},\"coloraxis\":{\"colorbar\":{\"outlinewidth\":0,\"ticks\":\"\"}},\"colorscale\":{\"sequential\":[[0.0,\"#0d0887\"],[0.1111111111111111,\"#46039f\"],[0.2222222222222222,\"#7201a8\"],[0.3333333333333333,\"#9c179e\"],[0.4444444444444444,\"#bd3786\"],[0.5555555555555556,\"#d8576b\"],[0.6666666666666666,\"#ed7953\"],[0.7777777777777778,\"#fb9f3a\"],[0.8888888888888888,\"#fdca26\"],[1.0,\"#f0f921\"]],\"sequentialminus\":[[0.0,\"#0d0887\"],[0.1111111111111111,\"#46039f\"],[0.2222222222222222,\"#7201a8\"],[0.3333333333333333,\"#9c179e\"],[0.4444444444444444,\"#bd3786\"],[0.5555555555555556,\"#d8576b\"],[0.6666666666666666,\"#ed7953\"],[0.7777777777777778,\"#fb9f3a\"],[0.8888888888888888,\"#fdca26\"],[1.0,\"#f0f921\"]],\"diverging\":[[0,\"#8e0152\"],[0.1,\"#c51b7d\"],[0.2,\"#de77ae\"],[0.3,\"#f1b6da\"],[0.4,\"#fde0ef\"],[0.5,\"#f7f7f7\"],[0.6,\"#e6f5d0\"],[0.7,\"#b8e186\"],[0.8,\"#7fbc41\"],[0.9,\"#4d9221\"],[1,\"#276419\"]]},\"xaxis\":{\"gridcolor\":\"white\",\"linecolor\":\"white\",\"ticks\":\"\",\"title\":{\"standoff\":15},\"zerolinecolor\":\"white\",\"automargin\":true,\"zerolinewidth\":2},\"yaxis\":{\"gridcolor\":\"white\",\"linecolor\":\"white\",\"ticks\":\"\",\"title\":{\"standoff\":15},\"zerolinecolor\":\"white\",\"automargin\":true,\"zerolinewidth\":2},\"scene\":{\"xaxis\":{\"backgroundcolor\":\"#E5ECF6\",\"gridcolor\":\"white\",\"linecolor\":\"white\",\"showbackground\":true,\"ticks\":\"\",\"zerolinecolor\":\"white\",\"gridwidth\":2},\"yaxis\":{\"backgroundcolor\":\"#E5ECF6\",\"gridcolor\":\"white\",\"linecolor\":\"white\",\"showbackground\":true,\"ticks\":\"\",\"zerolinecolor\":\"white\",\"gridwidth\":2},\"zaxis\":{\"backgroundcolor\":\"#E5ECF6\",\"gridcolor\":\"white\",\"linecolor\":\"white\",\"showbackground\":true,\"ticks\":\"\",\"zerolinecolor\":\"white\",\"gridwidth\":2}},\"shapedefaults\":{\"line\":{\"color\":\"#2a3f5f\"}},\"annotationdefaults\":{\"arrowcolor\":\"#2a3f5f\",\"arrowhead\":0,\"arrowwidth\":1},\"geo\":{\"bgcolor\":\"white\",\"landcolor\":\"#E5ECF6\",\"subunitcolor\":\"white\",\"showland\":true,\"showlakes\":true,\"lakecolor\":\"white\"},\"title\":{\"x\":0.05},\"mapbox\":{\"style\":\"light\"}}},\"xaxis\":{\"anchor\":\"y\",\"domain\":[0.0,1.0],\"title\":{\"text\":\"Fuel_efficiency\"},\"type\":\"log\"},\"yaxis\":{\"anchor\":\"x\",\"domain\":[0.0,1.0],\"title\":{\"text\":\"Price_in_thousands\"}},\"legend\":{\"title\":{\"text\":\"Manufacturer\"},\"tracegroupgap\":0,\"itemsizing\":\"constant\"},\"title\":{\"text\":\"Car Brands That Have Sold by Fuel Efficency\"}},                        {\"responsive\": true}                    ).then(function(){\n",
       "                            \n",
       "var gd = document.getElementById('134f3d55-46bd-4b39-ba9f-85823d383591');\n",
       "var x = new MutationObserver(function (mutations, observer) {{\n",
       "        var display = window.getComputedStyle(gd).display;\n",
       "        if (!display || display === 'none') {{\n",
       "            console.log([gd, 'removed!']);\n",
       "            Plotly.purge(gd);\n",
       "            observer.disconnect();\n",
       "        }}\n",
       "}});\n",
       "\n",
       "// Listen for the removal of the full notebook cells\n",
       "var notebookContainer = gd.closest('#notebook-container');\n",
       "if (notebookContainer) {{\n",
       "    x.observe(notebookContainer, {childList: true});\n",
       "}}\n",
       "\n",
       "// Listen for the clearing of the current output cell\n",
       "var outputEl = gd.closest('.output');\n",
       "if (outputEl) {{\n",
       "    x.observe(outputEl, {childList: true});\n",
       "}}\n",
       "\n",
       "                        })                };                });            </script>        </div>"
      ]
     },
     "metadata": {},
     "output_type": "display_data"
    }
   ],
   "source": [
    "fig = px.scatter(birth_rate_na, x=\"Fuel_efficiency\", y=\"Price_in_thousands\",\n",
    "              title = 'Car Brands That Have Sold by Fuel Efficency',\n",
    "              size='Price_in_thousands',\n",
    "              color=\"Manufacturer\",\n",
    "              hover_name=\"Manufacturer\",  size_max=50, log_x=True )\n",
    "\n",
    "fig.show()"
   ]
  },
  {
   "cell_type": "code",
   "execution_count": 14,
   "id": "0f510a49",
   "metadata": {},
   "outputs": [
    {
     "data": {
      "image/png": "[encoded data removed]",
      "text/plain": [
       "<Figure size 1080x720 with 1 Axes>"
      ]
     },
     "metadata": {
      "needs_background": "light"
     },
     "output_type": "display_data"
    }
   ],
   "source": [
    "xy = np.vstack([birth_rate_na.Horsepower, birth_rate_na.Price_in_thousands])\n",
    "z = gaussian_kde(xy)(xy)\n",
    "\n",
    "\n",
    "\n",
    "fig, ax = plt.subplots(figsize=(15,10))\n",
    "\n",
    "ax.scatter(birth_rate_na.Horsepower,birth_rate_na.Price_in_thousands, c=z ,s=150)\n",
    "plt.title(\"Price of Cars Sold by Horse Power\")\n",
    "plt.ylabel(\"Price in Thousands\")\n",
    "plt.xlabel(\"Horse Power\")\n",
    "plt.show()"
   ]
  }
 ],
 "metadata": {
  "kernelspec": {
   "display_name": "Python 3",
   "language": "python",
   "name": "python3"
  },
  "language_info": {
   "codemirror_mode": {
    "name": "ipython",
    "version": 3
   },
   "file_extension": ".py",
   "mimetype": "text/x-python",
   "name": "python",
   "nbconvert_exporter": "python",
   "pygments_lexer": "ipython3",
   "version": "3.8.8"
  }
 },
 "nbformat": 4,
 "nbformat_minor": 5
}
